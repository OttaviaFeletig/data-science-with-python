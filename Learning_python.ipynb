{
  "nbformat": 4,
  "nbformat_minor": 0,
  "metadata": {
    "colab": {
      "name": "Learning-python.ipynb",
      "provenance": [],
      "authorship_tag": "ABX9TyM7esd4gfxYfxpBYBDxn9bM",
      "include_colab_link": true
    },
    "kernelspec": {
      "name": "python3",
      "display_name": "Python 3"
    }
  },
  "cells": [
    {
      "cell_type": "markdown",
      "metadata": {
        "id": "view-in-github",
        "colab_type": "text"
      },
      "source": [
        "<a href=\"https://colab.research.google.com/github/OttaviaFeletig/data-science-with-python/blob/main/Learning_python.ipynb\" target=\"_parent\"><img src=\"https://colab.research.google.com/assets/colab-badge.svg\" alt=\"Open In Colab\"/></a>"
      ]
    },
    {
      "cell_type": "code",
      "metadata": {
        "id": "5WUCq4de1eMW",
        "outputId": "ce14c253-08d5-427a-9ef6-811fe5518100",
        "colab": {
          "base_uri": "https://localhost:8080/"
        }
      },
      "source": [
        "# Q1\n",
        "years = [1999, 1995, 2005, 2010, 2007, 2006, 1994, 1996, 1979, 2008]\n",
        "ages = []\n",
        "for year in years:\n",
        "  ages.append(2020 - year)\n",
        "print(ages)"
      ],
      "execution_count": null,
      "outputs": [
        {
          "output_type": "stream",
          "text": [
            "[21, 25, 15, 10, 13, 14, 26, 24, 41, 12]\n"
          ],
          "name": "stdout"
        }
      ]
    },
    {
      "cell_type": "code",
      "metadata": {
        "id": "tUt_Jr4i3iSW",
        "outputId": "d22699a6-0667-48e5-d15c-e16c9124c1a8",
        "colab": {
          "base_uri": "https://localhost:8080/"
        }
      },
      "source": [
        "# Q2\n",
        "\n",
        "ages = [20, 24, 14, 9, 12, 13, 25, 23, 40, 11]\n",
        "\n",
        "ages.sort()\n",
        "print(ages)\n",
        "ages.remove(ages[0])\n",
        "ages.remove(ages[len(ages) - 1])\n",
        "print(ages)"
      ],
      "execution_count": 4,
      "outputs": [
        {
          "output_type": "stream",
          "text": [
            "[9, 11, 12, 13, 14, 20, 23, 24, 25, 40]\n",
            "[11, 12, 13, 14, 20, 23, 24, 25]\n"
          ],
          "name": "stdout"
        }
      ]
    },
    {
      "cell_type": "code",
      "metadata": {
        "id": "itqinx1Juh4n"
      },
      "source": [
        "# Q3"
      ],
      "execution_count": null,
      "outputs": []
    }
  ]
}