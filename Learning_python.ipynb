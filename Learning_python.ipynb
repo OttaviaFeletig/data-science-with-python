{
  "nbformat": 4,
  "nbformat_minor": 0,
  "metadata": {
    "colab": {
      "name": "Learning-python.ipynb",
      "provenance": [],
      "collapsed_sections": [],
      "toc_visible": true,
      "authorship_tag": "ABX9TyP2ewpwgyn1+v2y9AiOyfDh",
      "include_colab_link": true
    },
    "kernelspec": {
      "name": "python3",
      "display_name": "Python 3"
    }
  },
  "cells": [
    {
      "cell_type": "markdown",
      "metadata": {
        "id": "view-in-github",
        "colab_type": "text"
      },
      "source": [
        "<a href=\"https://colab.research.google.com/github/OttaviaFeletig/data-science-with-python/blob/main/Learning_python.ipynb\" target=\"_parent\"><img src=\"https://colab.research.google.com/assets/colab-badge.svg\" alt=\"Open In Colab\"/></a>"
      ]
    },
    {
      "cell_type": "markdown",
      "metadata": {
        "id": "G57MuM0Sim8N"
      },
      "source": [
        "# Python exercises"
      ]
    },
    {
      "cell_type": "markdown",
      "metadata": {
        "id": "RgJrpBC4ivTd"
      },
      "source": [
        "## Basic"
      ]
    },
    {
      "cell_type": "markdown",
      "metadata": {
        "id": "1UTE6tvNiy3N"
      },
      "source": [
        "### 1"
      ]
    },
    {
      "cell_type": "code",
      "metadata": {
        "id": "5WUCq4de1eMW",
        "outputId": "ce14c253-08d5-427a-9ef6-811fe5518100",
        "colab": {
          "base_uri": "https://localhost:8080/"
        }
      },
      "source": [
        "years = [1999, 1995, 2005, 2010, 2007, 2006, 1994, 1996, 1979, 2008]\n",
        "ages = []\n",
        "for year in years:\n",
        "  ages.append(2020 - year)\n",
        "print(ages)"
      ],
      "execution_count": null,
      "outputs": [
        {
          "output_type": "stream",
          "text": [
            "[21, 25, 15, 10, 13, 14, 26, 24, 41, 12]\n"
          ],
          "name": "stdout"
        }
      ]
    },
    {
      "cell_type": "markdown",
      "metadata": {
        "id": "P4ExgxD-i3w2"
      },
      "source": [
        "### 2"
      ]
    },
    {
      "cell_type": "code",
      "metadata": {
        "id": "tUt_Jr4i3iSW",
        "outputId": "d22699a6-0667-48e5-d15c-e16c9124c1a8",
        "colab": {
          "base_uri": "https://localhost:8080/"
        }
      },
      "source": [
        "ages = [20, 24, 14, 9, 12, 13, 25, 23, 40, 11]\n",
        "\n",
        "ages.sort()\n",
        "print(ages)\n",
        "ages.remove(ages[0])\n",
        "ages.remove(ages[len(ages) - 1])\n",
        "print(ages)"
      ],
      "execution_count": null,
      "outputs": [
        {
          "output_type": "stream",
          "text": [
            "[9, 11, 12, 13, 14, 20, 23, 24, 25, 40]\n",
            "[11, 12, 13, 14, 20, 23, 24, 25]\n"
          ],
          "name": "stdout"
        }
      ]
    },
    {
      "cell_type": "markdown",
      "metadata": {
        "id": "AGM8ga8di-Ed"
      },
      "source": [
        "### 3"
      ]
    },
    {
      "cell_type": "code",
      "metadata": {
        "id": "itqinx1Juh4n",
        "outputId": "46f1f905-52ad-4398-be58-97a5e9f10ca0",
        "colab": {
          "base_uri": "https://localhost:8080/"
        }
      },
      "source": [
        "berlin = [15, 13, 16, 18, 19, 10, 12 ]\n",
        "munich = [7, 13, 15, 20, 19, 18, 10, 16]\n",
        "\n",
        "def find_common(berlin, munich):\n",
        "  common_ages = []\n",
        "  for age_berlin in berlin:\n",
        "    for age_munich in munich:\n",
        "      if age_berlin == age_munich:\n",
        "        common_ages.append(age_berlin)\n",
        "  return common_ages\n",
        "common_ages = find_common(berlin, munich)\n",
        "print(common_ages)"
      ],
      "execution_count": 5,
      "outputs": [
        {
          "output_type": "stream",
          "text": [
            "[15, 13, 16, 18, 19, 10]\n"
          ],
          "name": "stdout"
        }
      ]
    },
    {
      "cell_type": "markdown",
      "metadata": {
        "id": "FBGZcLkijDVV"
      },
      "source": [
        "### 4"
      ]
    },
    {
      "cell_type": "code",
      "metadata": {
        "id": "Q_FNh4OTCWzM",
        "outputId": "f9000749-c19c-4cce-88ac-b3df22e7edb0",
        "colab": {
          "base_uri": "https://localhost:8080/"
        }
      },
      "source": [
        "duplicates = [15,13,16,18,19,15,10,15]\n",
        "unique_values = []\n",
        "i = 0\n",
        "j = 1\n",
        "while i < len(duplicates):\n",
        "  print(\"i\",i)\n",
        "  while j < len(duplicates):\n",
        "    if i != j:\n",
        "      if duplicates[i] != duplicates[j]:\n",
        "        if unique_values.count(duplicates[i]) <= 0:\n",
        "          unique_values.append(duplicates[i])\n",
        "    j += 1\n",
        "    if j == 7:\n",
        "      j = 1\n",
        "      break\n",
        "    if i == (len(duplicates) - 1):\n",
        "      break\n",
        "    \n",
        "    #print(\"j\",j)\n",
        "    \n",
        "  i += 1\n",
        "\n",
        "\n",
        "print(unique_values)"
      ],
      "execution_count": null,
      "outputs": [
        {
          "output_type": "stream",
          "text": [
            "i 0\n",
            "i 1\n",
            "i 2\n",
            "i 3\n",
            "i 4\n",
            "i 5\n",
            "i 6\n",
            "[15, 13, 16, 18, 19, 10]\n"
          ],
          "name": "stdout"
        }
      ]
    },
    {
      "cell_type": "code",
      "metadata": {
        "id": "MRqkCNeLhnlO",
        "outputId": "1a56fd31-6006-4e90-d6e9-b77524bee89d",
        "colab": {
          "base_uri": "https://localhost:8080/"
        }
      },
      "source": [
        "duplicates = [15,13,16,18,19,15,10,15]\n",
        "unique_values = []\n",
        "\n",
        "for n in duplicates:\n",
        "  if unique_values.count(n) <= 0:\n",
        "    unique_values.append(n)\n",
        "print(unique_values)"
      ],
      "execution_count": 3,
      "outputs": [
        {
          "output_type": "stream",
          "text": [
            "[15, 13, 16, 18, 19, 10]\n"
          ],
          "name": "stdout"
        }
      ]
    },
    {
      "cell_type": "code",
      "metadata": {
        "id": "Wnmmq4iZiGg2",
        "outputId": "5959fe1d-2643-46cf-ccf8-62be8ca6eb8d",
        "colab": {
          "base_uri": "https://localhost:8080/"
        }
      },
      "source": [
        "list(set(duplicates))"
      ],
      "execution_count": 4,
      "outputs": [
        {
          "output_type": "execute_result",
          "data": {
            "text/plain": [
              "[10, 13, 15, 16, 18, 19]"
            ]
          },
          "metadata": {
            "tags": []
          },
          "execution_count": 4
        }
      ]
    },
    {
      "cell_type": "markdown",
      "metadata": {
        "id": "YKihO64hjJVn"
      },
      "source": [
        "### 5"
      ]
    },
    {
      "cell_type": "code",
      "metadata": {
        "id": "G-f0UfaTWYAf"
      },
      "source": [
        "def is_age_present(list, age):\n",
        "  if list.count(age) > 0:\n",
        "    return True\n",
        "  else:\n",
        "    return False\n",
        "print(is_age_present([15,13,16,18,19,15,10], 15))\n",
        "print(is_age_present([15,13,16,18,19,15,10], 28))"
      ],
      "execution_count": null,
      "outputs": []
    },
    {
      "cell_type": "markdown",
      "metadata": {
        "id": "w3_ICA7PbWTX"
      },
      "source": [
        "## Intermediate"
      ]
    },
    {
      "cell_type": "markdown",
      "metadata": {
        "id": "N57j7hGHjYc1"
      },
      "source": [
        "### 1"
      ]
    },
    {
      "cell_type": "code",
      "metadata": {
        "id": "Uf1kOMOlaiKI",
        "outputId": "bda9631d-e80a-4af4-a2d1-92195414b9c6",
        "colab": {
          "base_uri": "https://localhost:8080/"
        }
      },
      "source": [
        "def find_outlier(array):\n",
        "  even = []\n",
        "  odd = []\n",
        "  for n in array:\n",
        "    if (n % 2 > 0):\n",
        "      odd.append(n)\n",
        "    else:\n",
        "      even.append(n)\n",
        "  if (len(even) == 1):\n",
        "    print(even[0])\n",
        "  else:\n",
        "    print(odd[0])\n",
        "\n",
        "find_outlier([2, 4, 0, 100, 4, 11, 2602, 36])\n",
        "find_outlier([160, 3, 1719, 19, 11, 13, -21])\n",
        "find_outlier([2, 4, 6, 8, 10, 3])"
      ],
      "execution_count": 11,
      "outputs": [
        {
          "output_type": "stream",
          "text": [
            "11\n",
            "160\n",
            "3\n"
          ],
          "name": "stdout"
        }
      ]
    },
    {
      "cell_type": "markdown",
      "metadata": {
        "id": "284nnkMnntsy"
      },
      "source": [
        "### 2"
      ]
    },
    {
      "cell_type": "code",
      "metadata": {
        "id": "oYe9Li9nmmF-",
        "outputId": "6d710db5-2392-4bd1-cd31-501e6e90e904",
        "colab": {
          "base_uri": "https://localhost:8080/"
        }
      },
      "source": [
        "def array_diff(list_1, list_2):\n",
        "  final_list = []\n",
        "  for a in range(len(list_1)):\n",
        "    if (not list_2.count(list_1[a]) > 0):\n",
        "      final_list.append(list_1[a])\n",
        "  print(final_list)\n",
        "array_diff([1,2, 1, 1],[1])\n",
        "array_diff([1,2,2], [2])\n"
      ],
      "execution_count": 18,
      "outputs": [
        {
          "output_type": "stream",
          "text": [
            "[2]\n",
            "[1]\n"
          ],
          "name": "stdout"
        }
      ]
    },
    {
      "cell_type": "code",
      "metadata": {
        "id": "5H4c0B4cyqJO",
        "outputId": "ed12dd81-fe4f-4c3a-98b9-cd0d141db6bc",
        "colab": {
          "base_uri": "https://localhost:8080/"
        }
      },
      "source": [
        "def array_diff(list1, list2):\n",
        "  return [i for i in list1 if i not in list2]\n",
        "print(array_diff([1,2, 1, 1],[1, 1, 3]))\n",
        "print(array_diff([1,2,2], [2]))"
      ],
      "execution_count": 38,
      "outputs": [
        {
          "output_type": "stream",
          "text": [
            "[2]\n",
            "[1]\n"
          ],
          "name": "stdout"
        }
      ]
    },
    {
      "cell_type": "markdown",
      "metadata": {
        "id": "MBZL9utCxIJ2"
      },
      "source": [
        "### 3"
      ]
    }
  ]
}