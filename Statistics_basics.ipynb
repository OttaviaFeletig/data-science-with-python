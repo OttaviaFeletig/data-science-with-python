{
  "nbformat": 4,
  "nbformat_minor": 0,
  "metadata": {
    "colab": {
      "name": "Statistics-basics.ipynb",
      "provenance": [],
      "authorship_tag": "ABX9TyMXf2viac5AZRUfM+K42Yb4",
      "include_colab_link": true
    },
    "kernelspec": {
      "name": "python3",
      "display_name": "Python 3"
    }
  },
  "cells": [
    {
      "cell_type": "markdown",
      "metadata": {
        "id": "view-in-github",
        "colab_type": "text"
      },
      "source": [
        "<a href=\"https://colab.research.google.com/github/OttaviaFeletig/data-science-with-python/blob/main/Statistics_basics.ipynb\" target=\"_parent\"><img src=\"https://colab.research.google.com/assets/colab-badge.svg\" alt=\"Open In Colab\"/></a>"
      ]
    },
    {
      "cell_type": "markdown",
      "metadata": {
        "id": "RRB8bfwm0lZ8"
      },
      "source": [
        "# Basics of Statistics"
      ]
    },
    {
      "cell_type": "markdown",
      "metadata": {
        "id": "M0RNc5iW038q"
      },
      "source": [
        "## 1"
      ]
    },
    {
      "cell_type": "markdown",
      "metadata": {
        "id": "oN6-ZbnB06Rr"
      },
      "source": [
        "**Given, there are 5 numbers in the data set: (8, 12, 16, 24, 4). What will be the sum of deviations of individual data points from their mean ?**"
      ]
    },
    {
      "cell_type": "markdown",
      "metadata": {
        "id": "zdHxsdvz0_-S"
      },
      "source": [
        "It's always 0.  \n",
        "Mean of data set = -12.8  \n",
        "Deviation 8 from mean = -4.8  \n",
        "Deviation 12 from mean = -0.8  \n",
        "Deviation 16 from mean = 3.2  \n",
        "Deviation 24 from mean = 11.2  \n",
        "Deviation 4 from mean = -8.8  \n",
        "Sum = 0"
      ]
    },
    {
      "cell_type": "markdown",
      "metadata": {
        "id": "B63EUp10233C"
      },
      "source": [
        "## 2"
      ]
    },
    {
      "cell_type": "markdown",
      "metadata": {
        "id": "mQ3zgMrO29dJ"
      },
      "source": [
        "**If some outliers are introduced to the dataset, what will happen to the Standard Deviation?**\n"
      ]
    },
    {
      "cell_type": "markdown",
      "metadata": {
        "id": "2mEYAjBU3Jq5"
      },
      "source": [
        "An **outlier** is a piece of data that is an abnormal distance from other points. In other words, it’s data that lies outside the other values in the set.\n",
        "The **Standard Variation** is the square root of the **Variance**.\n",
        "The Variance is the average of the squared differences from the Mean.\n",
        "\n",
        "Calculation of the Standard Variation changes if we are considering a Population (all elements we are interested in) or if we are considering a Sample (selection taken from a bigger population).\n",
        "\n",
        "When you have \"N\" data values that are:\n",
        "The Population: divide by N when calculating Variance\n",
        "A Sample: divide by N-1 when calculating Variance\n",
        "\n",
        "If outliers are introduced in our dataset, the Standar Variation will increase.\n",
        "Answer: B"
      ]
    },
    {
      "cell_type": "markdown",
      "metadata": {
        "id": "2i8QeWF16GMm"
      },
      "source": [
        "## 3"
      ]
    },
    {
      "cell_type": "markdown",
      "metadata": {
        "id": "318IcK8C6E-E"
      },
      "source": [
        "**Suppose the below positively skewed distribution has a median of 30, which of the following statement is true?**\n",
        "\n",
        "- A) Mean is greater than 30\n",
        "- B) Mean is less than 30\n",
        "- C) Mode is greater than 30\n",
        "- D) Mode is less than 30\n",
        "- E) Both A and D\n",
        "- F) Both B and C\n",
        "\n",
        "\n",
        "![stat](https://dsft.code-data-ai.com/wp-content/uploads/2019/12/1-stat-11.jpg)\n",
        "\n"
      ]
    },
    {
      "cell_type": "markdown",
      "metadata": {
        "id": "ATQDKvkR7IGx"
      },
      "source": [
        "If one tail is longer than another, the distribution is skewed.\n",
        "A right-skewed distribution has a long right tail. Right-skewed distributions are also called positive-skew distributions.\n",
        "\n",
        "- x axys: value\n",
        "- y axys: frequency\n",
        "\n",
        "Answer: E"
      ]
    },
    {
      "cell_type": "markdown",
      "metadata": {
        "id": "8Ni8Orhb9IpR"
      },
      "source": [
        "## 4"
      ]
    },
    {
      "cell_type": "markdown",
      "metadata": {
        "id": "aB7RI-bR9M1p"
      },
      "source": [
        "**Which value can be the possible value for the median of the below distribution?**\n",
        "\n",
        "- A) 40\n",
        "- B) 26\n",
        "- C) 16\n",
        "- D) 50\n",
        "\n",
        "![graph](https://dsft.code-data-ai.com/wp-content/uploads/2019/12/1-stat-12.jpg)"
      ]
    },
    {
      "cell_type": "markdown",
      "metadata": {
        "id": "y251S3dp9SEZ"
      },
      "source": [
        "Answer: B"
      ]
    },
    {
      "cell_type": "markdown",
      "metadata": {
        "id": "GT2lHmN99sFw"
      },
      "source": [
        "## 5, 6, 7"
      ]
    },
    {
      "cell_type": "markdown",
      "metadata": {
        "id": "NiMboSN0935h"
      },
      "source": [
        "![graph](https://dsft.code-data-ai.com/wp-content/uploads/2019/12/1-stat-13.jpg)\n",
        "\n",
        "5. **What is the shape of the distribution?**\n",
        "6. **What would you consider to be the most appropriate measure of the center for this data?**\n",
        "7. **If Y axis represents the number of individuals and X axis – salary of the individual in thousands. How many individuals have salary less than 10 thousands?**"
      ]
    },
    {
      "cell_type": "markdown",
      "metadata": {
        "id": "4NCpQfhM-J6q"
      },
      "source": [
        "5. Positively skewed distribution\n",
        "6. median\n",
        "7. 35"
      ]
    },
    {
      "cell_type": "markdown",
      "metadata": {
        "id": "JJ1MBUIqBflE"
      },
      "source": [
        "## 8"
      ]
    },
    {
      "cell_type": "markdown",
      "metadata": {
        "id": "kc0YlhKnBixO"
      },
      "source": [
        "**We have a set of positive numbers. If a single value of the set is altered what must change? **\n",
        "\n",
        "- Mean\n",
        "- Median\n",
        "- Mode"
      ]
    },
    {
      "cell_type": "markdown",
      "metadata": {
        "id": "ZAIt6ufeBsKJ"
      },
      "source": [
        "Mean is changing for sure.  \n",
        "Median changes only if the altered number is in the middle.  \n",
        "Mode changes if the altered number was the most frequent and now it's not\n"
      ]
    },
    {
      "cell_type": "markdown",
      "metadata": {
        "id": "1XY2-YTEChMg"
      },
      "source": [
        "## 9"
      ]
    },
    {
      "cell_type": "markdown",
      "metadata": {
        "id": "NLEKyQLJCj84"
      },
      "source": [
        "**The chart shows hourly consultancy rate of 10 people. \n",
        "Calculate the standard deviation of the salaries of the 10 employees.**\n",
        "\n",
        "![chart](https://dsft.code-data-ai.com/wp-content/uploads/2019/12/1-stat-14.jpg)"
      ]
    },
    {
      "cell_type": "markdown",
      "metadata": {
        "id": "-OM1g7OLC845"
      },
      "source": [
        "Set Of Data = [25,25,25,40,40,35,50,50,50,50]  \n",
        "Mean = 39  \n",
        "Variance = [(-14)^2 + (-14)^2 + (-14)^2 + (1)^2 + (1)^2 + (-4)^2 + (11)^2 + (11)^2 + (11)^2 + (11)^2] / 10  \n",
        "Variance = 196 + 196 + 196 + 1 + 1 + 16 + 121 + 121 + 121 + 121 = 109  \n",
        "Standard Deviation = 10"
      ]
    },
    {
      "cell_type": "markdown",
      "metadata": {
        "id": "QQeEqQU5Gb3Y"
      },
      "source": [
        "## 10"
      ]
    },
    {
      "cell_type": "markdown",
      "metadata": {
        "id": "_mVeIjCeGfXQ"
      },
      "source": [
        "**Which of the following random variables is discrete?**\n",
        "\n",
        "- A) the length of time a battery lasts\n",
        "- B) the number of pens purchased by a student in a year\n",
        "- C) the percentage of cows in a cattle firm that have been vaccinated\n",
        "- D) the distance between a pair of towns"
      ]
    },
    {
      "cell_type": "markdown",
      "metadata": {
        "id": "lUC_IQ1bGj4g"
      },
      "source": [
        "Discrete variables are countable in a finite amount of time. For example, you can count the change in your pocket. You can count the money in your bank account. You could also count the amount of money in everyone’s bank accounts. It might take you a long time to count that last item, but the point is—it’s still countable.\n",
        "\n",
        "Continuous Variables would (literally) take forever to count. In fact, you would get to “forever” and never finish counting them. For example, take age. You can’t count “age”. Why not? Because it would literally take forever. For example, you could be:\n",
        "25 years, 10 months, 2 days, 5 hours, 4 seconds, 4 milliseconds, 8 nanoseconds, 99 picosends…and so on.\n",
        "\n",
        "Answer: D"
      ]
    },
    {
      "cell_type": "markdown",
      "metadata": {
        "id": "kSj1fa4KIB4K"
      },
      "source": [
        "## 11"
      ]
    },
    {
      "cell_type": "markdown",
      "metadata": {
        "id": "oJCH90UNIEAo"
      },
      "source": [
        "**Which of the below normal distributions will have the greatest spread?**\n",
        "\n",
        "A) mu=5,  sigma =1.5  \n",
        "B) mu=10, sigma =1.0  \n",
        "C) mu=5,  sigma =1.65  \n",
        "D) mu=8,  sigma =1.2  \n",
        "E) mu=10, sigma =1.6  "
      ]
    },
    {
      "cell_type": "markdown",
      "metadata": {
        "id": "7XK_TOKVI5pn"
      },
      "source": [
        "Normal Distribution: when the data tends to be around a central value with no bias left or right.  \n",
        "mu: mean  \n",
        "sigma: standar deviation\n",
        "\n",
        "Answer: E\n",
        "\n",
        "If a distribution is normal, we should first consider the highest mean and then out of the highest means the highest standard deviation."
      ]
    },
    {
      "cell_type": "markdown",
      "metadata": {
        "id": "CrXBXZrqKeY_"
      },
      "source": [
        "## 12"
      ]
    },
    {
      "cell_type": "markdown",
      "metadata": {
        "id": "LBj7ZyXWKizQ"
      },
      "source": [
        "**For a normal distribution with mu=10 & sigma =1.4, about 2.5% of the values lie above what value? (Assume that the number is above the mean value)**\n",
        "\n",
        "![graph](https://dsft.code-data-ai.com/wp-content/uploads/2019/12/1-stat-16.jpg)"
      ]
    },
    {
      "cell_type": "markdown",
      "metadata": {
        "id": "wywUHs28KqMQ"
      },
      "source": [
        ""
      ]
    }
  ]
}